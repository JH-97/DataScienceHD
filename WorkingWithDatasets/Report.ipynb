{
 "cells": [
  {
   "cell_type": "code",
   "execution_count": 45,
   "metadata": {
    "id": "h0LVvvnfJsg5"
   },
   "outputs": [],
   "source": [
    "# Import pandas\n",
    "import pandas as pd\n",
    "df = pd.read_csv('balance.txt', delim_whitespace=True)"
   ]
  },
  {
   "cell_type": "code",
   "execution_count": 46,
   "metadata": {
    "id": "rv2oLRnPK36J"
   },
   "outputs": [
    {
     "name": "stdout",
     "output_type": "stream",
     "text": [
      "Ethnicity\n",
      "African American    47.682101\n",
      "Asian               44.187833\n",
      "Caucasian           44.521945\n",
      "Name: Income, dtype: float64\n",
      "\n",
      "Married people have a lower balance on average than single people.\n",
      "\n",
      "The highest income in our dataset is 186.634\n",
      "The lowest income in our dataset is 10.354\n",
      "\n",
      "The total number of cards in the dataset is 1183\n",
      "\n",
      "Gender\n",
      "Female    207\n",
      "Male      193\n",
      "Name: Gender, dtype: int64\n"
     ]
    }
   ],
   "source": [
    "# Create a DataFrame with balance.txt\n",
    "df = pd.read_csv('balance.txt', delim_whitespace=True)\n",
    "print(df.groupby('Ethnicity')['Income'].mean())\n",
    "\n",
    "# Determines if married or single people have a higher balance on average\n",
    "married_income_avg = df[df.Married == \"Yes\"].loc[:,\"Balance\"].mean()\n",
    "non_married_income_avg = df[df.Married == \"No\"].loc[:,\"Balance\"].mean()\n",
    "if married_income_avg > non_married_income_avg:\n",
    "    print(\"\\nMarried people have a higher balance on average than single people.\")\n",
    "elif married_income_avg < non_married_income_avg:\n",
    "    print(\"\\nMarried people have a lower balance on average than single people.\")\n",
    "else:\n",
    "    print(\"\\nMarried and Single people have the same balance on average\")\n",
    "    \n",
    "# Outputs the highest and lowest income in the dataset\n",
    "print(\"\\nThe highest income in our dataset is\", df.loc[:, \"Income\"].max())\n",
    "print(\"The lowest income in our dataset is\", df.loc[:, \"Income\"].min())\n",
    "\n",
    "# Outpuits the total number of cards recorded in the dataset\n",
    "print(\"\\nThe total number of cards in the dataset is\", df.loc[:, \"Cards\"].sum())\n",
    "\n",
    "print()\n",
    "# Compare how many females vs males records we have\n",
    "print(df.groupby('Gender')['Gender'].count())\n"
   ]
  },
  {
   "cell_type": "markdown",
   "metadata": {
    "id": "_LXpBJXZLYoh"
   },
   "source": [
    "Write the code needed to produce a report that provides the following information:\n",
    "* Compare the average income based on ethnicity. \n",
    "* On average, do married or single people have a higher balance?\n",
    "* What is the highest income in our dataset?\n",
    "* What is the lowest income in our dataset?\n",
    "* How many cards do we have recorded in our dataset? (Hint: use `sum()`)\n",
    "* How many females do we have information for vs how many males? (Hint: use `count()`For a list of all methods for computation of descriptive stats, explore the [pandas documentation](https://pandas.pydata.org/pandas-docs/stable/reference/frame.html#computations-descriptive-stats)). \n",
    "\n",
    "\n"
   ]
  }
 ],
 "metadata": {
  "colab": {
   "authorship_tag": "ABX9TyP5J3xG1JXUCQAkP9OLQqdU",
   "provenance": []
  },
  "kernelspec": {
   "display_name": "Python 3 (ipykernel)",
   "language": "python",
   "name": "python3"
  },
  "language_info": {
   "codemirror_mode": {
    "name": "ipython",
    "version": 3
   },
   "file_extension": ".py",
   "mimetype": "text/x-python",
   "name": "python",
   "nbconvert_exporter": "python",
   "pygments_lexer": "ipython3",
   "version": "3.11.2"
  }
 },
 "nbformat": 4,
 "nbformat_minor": 1
}
